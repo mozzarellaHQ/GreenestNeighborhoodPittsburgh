{
 "cells": [
  {
   "cell_type": "markdown",
   "id": "386e9f8c-69b3-4c8c-b65b-82a16d39bfb2",
   "metadata": {},
   "source": [
    "# Pittsburgh's Best Neighborhood\n",
    "**Metric:** Greenest Neighborhood in Pittsburgh\n",
    "\n",
    "**Name:** Alex McCulloch\n",
    "\n",
    "**Group:** Green Beans\n",
    "\n",
    "**Partners:** Advaitha Agastheeswaran, Benjamin Jackson\n",
    "\n",
    "**WPRDC Dataset:**  [Greenways] (https://data.wprdc.org/dataset/greenways/resource/28116520-b7d4-4895-9d4f-6b5c843a5650)"
   ]
  },
  {
   "cell_type": "markdown",
   "id": "8cb85103-f659-4aef-a7b9-811b29852884",
   "metadata": {},
   "source": [
    "### First, let's import everything that we need to organize our CSV"
   ]
  },
  {
   "cell_type": "code",
   "execution_count": 30,
   "id": "2407cbf8-d1aa-464a-bf61-6b4aa342e326",
   "metadata": {},
   "outputs": [],
   "source": [
    "import pandas as pd\n",
    "import geopandas\n",
    "import sys\n",
    "import numpy as np\n",
    "%matplotlib inline\n",
    "import matplotlib.pyplot as plt"
   ]
  },
  {
   "cell_type": "markdown",
   "id": "6083937f-b1c6-4b6d-a584-4980b42c51ca",
   "metadata": {},
   "source": [
    "### Next, let's see a sample of our entire CSV file"
   ]
  },
  {
   "cell_type": "code",
   "execution_count": 34,
   "id": "5862ec95-8734-4826-8c25-988636380369",
   "metadata": {},
   "outputs": [
    {
     "data": {
      "text/html": [
       "<div>\n",
       "<style scoped>\n",
       "    .dataframe tbody tr th:only-of-type {\n",
       "        vertical-align: middle;\n",
       "    }\n",
       "\n",
       "    .dataframe tbody tr th {\n",
       "        vertical-align: top;\n",
       "    }\n",
       "\n",
       "    .dataframe thead th {\n",
       "        text-align: right;\n",
       "    }\n",
       "</style>\n",
       "<table border=\"1\" class=\"dataframe\">\n",
       "  <thead>\n",
       "    <tr style=\"text-align: right;\">\n",
       "      <th></th>\n",
       "      <th>_id</th>\n",
       "      <th>objectid_1</th>\n",
       "      <th>objectid</th>\n",
       "      <th>area</th>\n",
       "      <th>perimeter</th>\n",
       "      <th>greenway</th>\n",
       "      <th>greenway_i</th>\n",
       "      <th>name</th>\n",
       "      <th>acres</th>\n",
       "      <th>sqmiles</th>\n",
       "      <th>...</th>\n",
       "      <th>dpwdiv</th>\n",
       "      <th>shape_leng</th>\n",
       "      <th>date_resol</th>\n",
       "      <th>label</th>\n",
       "      <th>shape_length</th>\n",
       "      <th>shape_area</th>\n",
       "      <th>created_user</th>\n",
       "      <th>created_date</th>\n",
       "      <th>last_edited_user</th>\n",
       "      <th>last_edited_date</th>\n",
       "    </tr>\n",
       "  </thead>\n",
       "  <tbody>\n",
       "    <tr>\n",
       "      <th>0</th>\n",
       "      <td>2212</td>\n",
       "      <td>1</td>\n",
       "      <td>23.0</td>\n",
       "      <td>1.858947e+06</td>\n",
       "      <td>31202.044922</td>\n",
       "      <td>0.0</td>\n",
       "      <td>4</td>\n",
       "      <td>Beechview Seldom Seen</td>\n",
       "      <td>42.675374</td>\n",
       "      <td>0.066681</td>\n",
       "      <td>...</td>\n",
       "      <td>5</td>\n",
       "      <td>31202.045653</td>\n",
       "      <td>1985-07-15T00:00:00</td>\n",
       "      <td>Beechview - Seldom Seen Greenway</td>\n",
       "      <td>14626.978183</td>\n",
       "      <td>1.858947e+06</td>\n",
       "      <td>pgh.dcp.allisot</td>\n",
       "      <td>2024-04-10</td>\n",
       "      <td>pgh.dcp.allisot</td>\n",
       "      <td>2024-04-10</td>\n",
       "    </tr>\n",
       "    <tr>\n",
       "      <th>1</th>\n",
       "      <td>2213</td>\n",
       "      <td>2</td>\n",
       "      <td>0.0</td>\n",
       "      <td>1.201580e+06</td>\n",
       "      <td>26922.017578</td>\n",
       "      <td>4.0</td>\n",
       "      <td>6</td>\n",
       "      <td>Moore</td>\n",
       "      <td>27.584380</td>\n",
       "      <td>0.043101</td>\n",
       "      <td>...</td>\n",
       "      <td>5</td>\n",
       "      <td>26922.017619</td>\n",
       "      <td>2006-10-20T00:00:00</td>\n",
       "      <td>Moore Greenway</td>\n",
       "      <td>16334.131937</td>\n",
       "      <td>1.201580e+06</td>\n",
       "      <td>pgh.dcp.allisot</td>\n",
       "      <td>2024-04-10</td>\n",
       "      <td>pgh.dcp.allisot</td>\n",
       "      <td>2024-04-10</td>\n",
       "    </tr>\n",
       "    <tr>\n",
       "      <th>2</th>\n",
       "      <td>2214</td>\n",
       "      <td>3</td>\n",
       "      <td>NaN</td>\n",
       "      <td>5.083942e+05</td>\n",
       "      <td>3822.361084</td>\n",
       "      <td>NaN</td>\n",
       "      <td>12</td>\n",
       "      <td>Nine Mile Run</td>\n",
       "      <td>11.671078</td>\n",
       "      <td>0.018236</td>\n",
       "      <td>...</td>\n",
       "      <td>3</td>\n",
       "      <td>NaN</td>\n",
       "      <td>2012-05-11T00:00:00</td>\n",
       "      <td>Nine Mile Run Greenway</td>\n",
       "      <td>8518.013454</td>\n",
       "      <td>5.083942e+05</td>\n",
       "      <td>pgh.dcp.allisot</td>\n",
       "      <td>2024-04-10</td>\n",
       "      <td>pgh.dcp.allisot</td>\n",
       "      <td>2024-04-10</td>\n",
       "    </tr>\n",
       "  </tbody>\n",
       "</table>\n",
       "<p>3 rows × 21 columns</p>\n",
       "</div>"
      ],
      "text/plain": [
       "    _id  objectid_1  objectid          area     perimeter  greenway  \\\n",
       "0  2212           1      23.0  1.858947e+06  31202.044922       0.0   \n",
       "1  2213           2       0.0  1.201580e+06  26922.017578       4.0   \n",
       "2  2214           3       NaN  5.083942e+05   3822.361084       NaN   \n",
       "\n",
       "   greenway_i                   name      acres   sqmiles  ... dpwdiv  \\\n",
       "0           4  Beechview Seldom Seen  42.675374  0.066681  ...      5   \n",
       "1           6                  Moore  27.584380  0.043101  ...      5   \n",
       "2          12          Nine Mile Run  11.671078  0.018236  ...      3   \n",
       "\n",
       "     shape_leng           date_resol                             label  \\\n",
       "0  31202.045653  1985-07-15T00:00:00  Beechview - Seldom Seen Greenway   \n",
       "1  26922.017619  2006-10-20T00:00:00                    Moore Greenway   \n",
       "2           NaN  2012-05-11T00:00:00            Nine Mile Run Greenway   \n",
       "\n",
       "   shape_length    shape_area     created_user created_date last_edited_user  \\\n",
       "0  14626.978183  1.858947e+06  pgh.dcp.allisot   2024-04-10  pgh.dcp.allisot   \n",
       "1  16334.131937  1.201580e+06  pgh.dcp.allisot   2024-04-10  pgh.dcp.allisot   \n",
       "2   8518.013454  5.083942e+05  pgh.dcp.allisot   2024-04-10  pgh.dcp.allisot   \n",
       "\n",
       "  last_edited_date  \n",
       "0       2024-04-10  \n",
       "1       2024-04-10  \n",
       "2       2024-04-10  \n",
       "\n",
       "[3 rows x 21 columns]"
      ]
     },
     "execution_count": 34,
     "metadata": {},
     "output_type": "execute_result"
    }
   ],
   "source": [
    "# import dataset\n",
    "greenways = pd.read_csv(\"greenways.csv\", low_memory = False)\n",
    "\n",
    "# display first 3 rows\n",
    "greenways.head(3)"
   ]
  },
  {
   "cell_type": "markdown",
   "id": "e86c4447-6a6f-4a45-b029-766ba312022c",
   "metadata": {},
   "source": [
    "### Now, let's take a sample of only the data we will be working with\n",
    "Below are the first three Pittsburgh Greenways listed in the CSV displayed with witheir neighborhood, label, area, and acres"
   ]
  },
  {
   "cell_type": "code",
   "execution_count": 36,
   "id": "668bcf83-b527-4879-90d5-f77eaa50457e",
   "metadata": {},
   "outputs": [
    {
     "data": {
      "text/html": [
       "<div>\n",
       "<style scoped>\n",
       "    .dataframe tbody tr th:only-of-type {\n",
       "        vertical-align: middle;\n",
       "    }\n",
       "\n",
       "    .dataframe tbody tr th {\n",
       "        vertical-align: top;\n",
       "    }\n",
       "\n",
       "    .dataframe thead th {\n",
       "        text-align: right;\n",
       "    }\n",
       "</style>\n",
       "<table border=\"1\" class=\"dataframe\">\n",
       "  <thead>\n",
       "    <tr style=\"text-align: right;\">\n",
       "      <th></th>\n",
       "      <th>nhood</th>\n",
       "      <th>label</th>\n",
       "      <th>area</th>\n",
       "      <th>acres</th>\n",
       "    </tr>\n",
       "  </thead>\n",
       "  <tbody>\n",
       "    <tr>\n",
       "      <th>0</th>\n",
       "      <td>Beechview</td>\n",
       "      <td>Beechview - Seldom Seen Greenway</td>\n",
       "      <td>1.858947e+06</td>\n",
       "      <td>42.675374</td>\n",
       "    </tr>\n",
       "    <tr>\n",
       "      <th>1</th>\n",
       "      <td>Brookline</td>\n",
       "      <td>Moore Greenway</td>\n",
       "      <td>1.201580e+06</td>\n",
       "      <td>27.584380</td>\n",
       "    </tr>\n",
       "    <tr>\n",
       "      <th>2</th>\n",
       "      <td>Squirrel Hill South</td>\n",
       "      <td>Nine Mile Run Greenway</td>\n",
       "      <td>5.083942e+05</td>\n",
       "      <td>11.671078</td>\n",
       "    </tr>\n",
       "    <tr>\n",
       "      <th>3</th>\n",
       "      <td>Perry South</td>\n",
       "      <td>Perry South Greenway</td>\n",
       "      <td>5.581352e+05</td>\n",
       "      <td>12.812969</td>\n",
       "    </tr>\n",
       "    <tr>\n",
       "      <th>4</th>\n",
       "      <td>NaN</td>\n",
       "      <td>Bigelow Greenway</td>\n",
       "      <td>1.053815e+06</td>\n",
       "      <td>24.192173</td>\n",
       "    </tr>\n",
       "    <tr>\n",
       "      <th>5</th>\n",
       "      <td>Perry North</td>\n",
       "      <td>Observatory Hill Hollows Greenway</td>\n",
       "      <td>7.813766e+05</td>\n",
       "      <td>17.937867</td>\n",
       "    </tr>\n",
       "    <tr>\n",
       "      <th>6</th>\n",
       "      <td>NaN</td>\n",
       "      <td>Allegheny River Greenway</td>\n",
       "      <td>1.523838e+06</td>\n",
       "      <td>37.815402</td>\n",
       "    </tr>\n",
       "    <tr>\n",
       "      <th>7</th>\n",
       "      <td>South Oakland</td>\n",
       "      <td>Oakcliffe Greenway</td>\n",
       "      <td>2.226447e+05</td>\n",
       "      <td>5.111200</td>\n",
       "    </tr>\n",
       "    <tr>\n",
       "      <th>8</th>\n",
       "      <td>NaN</td>\n",
       "      <td>Spring Hill / Spring Garden Greenway</td>\n",
       "      <td>2.064316e+06</td>\n",
       "      <td>47.389975</td>\n",
       "    </tr>\n",
       "    <tr>\n",
       "      <th>9</th>\n",
       "      <td>Hazelwood</td>\n",
       "      <td>Hazelwood Greenway</td>\n",
       "      <td>2.566833e+05</td>\n",
       "      <td>3.132885</td>\n",
       "    </tr>\n",
       "  </tbody>\n",
       "</table>\n",
       "</div>"
      ],
      "text/plain": [
       "                 nhood                                 label          area  \\\n",
       "0            Beechview      Beechview - Seldom Seen Greenway  1.858947e+06   \n",
       "1            Brookline                        Moore Greenway  1.201580e+06   \n",
       "2  Squirrel Hill South                Nine Mile Run Greenway  5.083942e+05   \n",
       "3          Perry South                  Perry South Greenway  5.581352e+05   \n",
       "4                  NaN                      Bigelow Greenway  1.053815e+06   \n",
       "5          Perry North     Observatory Hill Hollows Greenway  7.813766e+05   \n",
       "6                  NaN              Allegheny River Greenway  1.523838e+06   \n",
       "7        South Oakland                    Oakcliffe Greenway  2.226447e+05   \n",
       "8                  NaN  Spring Hill / Spring Garden Greenway  2.064316e+06   \n",
       "9            Hazelwood                    Hazelwood Greenway  2.566833e+05   \n",
       "\n",
       "       acres  \n",
       "0  42.675374  \n",
       "1  27.584380  \n",
       "2  11.671078  \n",
       "3  12.812969  \n",
       "4  24.192173  \n",
       "5  17.937867  \n",
       "6  37.815402  \n",
       "7   5.111200  \n",
       "8  47.389975  \n",
       "9   3.132885  "
      ]
     },
     "execution_count": 36,
     "metadata": {},
     "output_type": "execute_result"
    }
   ],
   "source": [
    "#only show Neighborhood, Name of Greenway, Area of the Greenway, and Acreage of the Greenway\n",
    "greenways[['nhood', 'label', 'area', 'acres']]"
   ]
  },
  {
   "cell_type": "markdown",
   "id": "c54aa8e6-eed4-4744-abd7-a35f47f19779",
   "metadata": {},
   "source": [
    "### Good. Now our data is more sorted\n",
    "\n",
    "However, we have a problem: \n",
    "Bigelow, Allegheny River, and Spring Hill Spring Garden do not belong to a specific neighborhood in the CSV.\n",
    "\n",
    "To fix this, we can manually add the acreage to the acreage of the neighborhood they belong to. \n",
    "\n",
    "Here is what we need to add to our CSV file:\n",
    "\n",
    "- Bigelow Greenway is in Southside\n",
    "\n",
    "- Allegheny River Greenway is in Lawrenceville \n",
    "\n",
    "- Spring Hill / Spring Garden Greenway is in Spring Hill/Spring Garden"
   ]
  },
  {
   "cell_type": "code",
   "execution_count": 39,
   "id": "4b20a096-a1b5-41ed-90de-06321dbdcc46",
   "metadata": {},
   "outputs": [],
   "source": [
    "replacement_values = {\n",
    "    4: 'Southside',\n",
    "    6: 'Lawrenceville',\n",
    "    8: 'Spring Hill/Spring Garden'\n",
    "}\n",
    "\n",
    "for index, value in replacement_values.items():\n",
    "    greenways.loc[index, 'nhood'] = value"
   ]
  },
  {
   "cell_type": "markdown",
   "id": "618bc487-b494-4b8c-a069-34630a4e807c",
   "metadata": {},
   "source": [
    "### Now that we've made those changes, we can print and save our new updated dataframe"
   ]
  },
  {
   "cell_type": "code",
   "execution_count": 42,
   "id": "3160c492-b33b-4810-b8a1-c237d6ce506c",
   "metadata": {},
   "outputs": [
    {
     "name": "stdout",
     "output_type": "stream",
     "text": [
      "\n",
      "Updated DataFrame:\n",
      "    _id  objectid_1  objectid          area     perimeter  greenway  \\\n",
      "0  2212           1      23.0  1.858947e+06  31202.044922       0.0   \n",
      "1  2213           2       0.0  1.201580e+06  26922.017578       4.0   \n",
      "2  2214           3       NaN  5.083942e+05   3822.361084       NaN   \n",
      "3  2215           4      47.0  5.581352e+05  18576.343750       6.0   \n",
      "4  2216           5       0.0  1.053815e+06  55200.765625       0.0   \n",
      "5  2217           6   24771.0  7.813766e+05  22569.248047       5.0   \n",
      "6  2218           7       0.0  1.523838e+06  24508.027344       0.0   \n",
      "7  2219           8       0.0  2.226447e+05   6321.647949       0.0   \n",
      "8  2220           9       2.0  2.064316e+06  21532.105469       7.0   \n",
      "9  2221          10      25.0  2.566833e+05  48166.937500       3.0   \n",
      "\n",
      "   greenway_i                       name      acres   sqmiles  ... dpwdiv  \\\n",
      "0           4      Beechview Seldom Seen  42.675374  0.066681  ...      5   \n",
      "1           6                      Moore  27.584380  0.043101  ...      5   \n",
      "2          12              Nine Mile Run  11.671078  0.018236  ...      3   \n",
      "3           7                Perry South  12.812969  0.020020  ...      1   \n",
      "4          11                    Bigelow  24.192173  0.037801  ...      0   \n",
      "5           8   Observatory Hill Hollows  17.937867  0.028028  ...      1   \n",
      "6           9            Allegheny River  37.815402  0.059087  ...      2   \n",
      "7          10                  Oakcliffe   5.111200  0.007986  ...      3   \n",
      "8           1  Spring Hill Spring Garden  47.389975  0.074047  ...      1   \n",
      "9           2                  Hazelwood   3.132885  0.004895  ...      3   \n",
      "\n",
      "     shape_leng           date_resol                                 label  \\\n",
      "0  31202.045653  1985-07-15T00:00:00      Beechview - Seldom Seen Greenway   \n",
      "1  26922.017619  2006-10-20T00:00:00                        Moore Greenway   \n",
      "2           NaN  2012-05-11T00:00:00                Nine Mile Run Greenway   \n",
      "3  18576.343088  2010-03-02T00:00:00                  Perry South Greenway   \n",
      "4    721.500240  2012-05-11T00:00:00                      Bigelow Greenway   \n",
      "5  22591.518013  2010-11-03T00:00:00     Observatory Hill Hollows Greenway   \n",
      "6  24508.027115  2011-03-08T00:00:00              Allegheny River Greenway   \n",
      "7   6321.648193  2011-04-06T00:00:00                    Oakcliffe Greenway   \n",
      "8  21532.104694  1981-06-29T00:00:00  Spring Hill / Spring Garden Greenway   \n",
      "9  41209.885730  1983-03-28T00:00:00                    Hazelwood Greenway   \n",
      "\n",
      "   shape_length    shape_area     created_user created_date last_edited_user  \\\n",
      "0  14626.978183  1.858947e+06  pgh.dcp.allisot   2024-04-10  pgh.dcp.allisot   \n",
      "1  16334.131937  1.201580e+06  pgh.dcp.allisot   2024-04-10  pgh.dcp.allisot   \n",
      "2   8518.013454  5.083942e+05  pgh.dcp.allisot   2024-04-10  pgh.dcp.allisot   \n",
      "3  18588.382700  5.581352e+05  pgh.dcp.allisot   2024-04-10  pgh.dcp.allisot   \n",
      "4  30418.992483  1.053815e+06  pgh.dcp.allisot   2024-04-10  pgh.dcp.allisot   \n",
      "5  22649.576470  7.813766e+05  pgh.dcp.allisot   2024-04-10  pgh.dcp.allisot   \n",
      "6  28843.989579  1.647239e+06  pgh.dcp.allisot   2024-04-10  pgh.dcp.allisot   \n",
      "7   6349.606018  2.226447e+05  pgh.dcp.allisot   2024-04-10  pgh.dcp.allisot   \n",
      "8  19303.185646  2.064316e+06  pgh.dcp.allisot   2024-04-10  pgh.dcp.allisot   \n",
      "9   5013.738942  1.364690e+05  pgh.dcp.allisot   2024-04-10  pgh.dcp.allisot   \n",
      "\n",
      "  last_edited_date  \n",
      "0       2024-04-10  \n",
      "1       2024-04-10  \n",
      "2       2024-04-10  \n",
      "3       2024-04-10  \n",
      "4       2024-04-10  \n",
      "5       2024-04-10  \n",
      "6       2024-04-10  \n",
      "7       2024-04-10  \n",
      "8       2024-04-10  \n",
      "9       2024-04-10  \n",
      "\n",
      "[10 rows x 21 columns]\n"
     ]
    }
   ],
   "source": [
    "print(\"\\nUpdated DataFrame:\")\n",
    "print(greenways)\n",
    "\n",
    "greenways.to_csv('new_greenways.csv', index=False)\n",
    "greenways.to_csv('C:/Users/alexm/Downloads/Data-Visualization/new_greenways.csv', index=False)"
   ]
  },
  {
   "cell_type": "markdown",
   "id": "650338a6-9fb6-45c2-a902-d1a87e02c916",
   "metadata": {},
   "source": [
    "### Now that we have a CSV file with all of the values that we need, we can organize our data by neighborhood (nhood) and acerage (acres) in decending order"
   ]
  },
  {
   "cell_type": "code",
   "execution_count": 45,
   "id": "db01337c-675a-476b-a9c4-a70136b91906",
   "metadata": {},
   "outputs": [
    {
     "data": {
      "text/plain": [
       "nhood\n",
       "Spring Hill/Spring Garden    47.389975\n",
       "Beechview                    42.675374\n",
       "Lawrenceville                37.815402\n",
       "Brookline                    27.584380\n",
       "Southside                    24.192173\n",
       "Perry North                  17.937867\n",
       "Perry South                  12.812969\n",
       "Squirrel Hill South          11.671078\n",
       "South Oakland                 5.111200\n",
       "Hazelwood                     3.132885\n",
       "Name: acres, dtype: float64"
      ]
     },
     "execution_count": 45,
     "metadata": {},
     "output_type": "execute_result"
    }
   ],
   "source": [
    "new_greenways = pd.read_csv(\"new_greenways.csv\", low_memory = False)\n",
    "new_greenway_acres = new_greenways.groupby(\"nhood\").sum()['acres']\n",
    "new_greenway_acres.sort_values(ascending=False)"
   ]
  },
  {
   "cell_type": "markdown",
   "id": "62352a78-47d4-47cb-9361-6e5ea2467158",
   "metadata": {},
   "source": [
    "### Let's put this data into a bar graph."
   ]
  },
  {
   "cell_type": "code",
   "execution_count": 48,
   "id": "63a3d4c9-4969-4a8f-8762-d3164d38002d",
   "metadata": {},
   "outputs": [
    {
     "data": {
      "text/plain": [
       "Text(0, 0.5, 'Acres of Greenways')"
      ]
     },
     "execution_count": 48,
     "metadata": {},
     "output_type": "execute_result"
    },
    {
     "data": {
      "image/png": "[encoded data removed]",
      "text/plain": [
       "<Figure size 640x480 with 1 Axes>"
      ]
     },
     "metadata": {},
     "output_type": "display_data"
    }
   ],
   "source": [
    "plt.bar(new_greenways['nhood'], new_greenways['acres'], color='green', alpha=0.7)  # creates bar graph comparing neighborhoods with acres\n",
    "plt.xticks(rotation=90, ha='center') # turns x-axis labels vertical\n",
    "\n",
    "# adds title to bar graph\n",
    "plt.title(\"Acres of Greenways in Pittsburgh Neighborhoods\")\n",
    "plt.xlabel(\"Neighborhood\")\n",
    "plt.ylabel(\"Acres of Greenways\")"
   ]
  },
  {
   "cell_type": "markdown",
   "id": "04bf8ad5-8197-488a-a31d-c36e17891e80",
   "metadata": {},
   "source": [
    "### From this sorted dataset, we can see that Spring Hill/ Spring Garden has the most greenways.\n",
    "\n",
    "Thus, by this metric, Spring Hill/ Spring Garden is the most green neighbohood in the Pittsburgh."
   ]
  }
 ],
 "metadata": {
  "kernelspec": {
   "display_name": "Python 3 (ipykernel)",
   "language": "python",
   "name": "python3"
  },
  "language_info": {
   "codemirror_mode": {
    "name": "ipython",
    "version": 3
   },
   "file_extension": ".py",
   "mimetype": "text/x-python",
   "name": "python",
   "nbconvert_exporter": "python",
   "pygments_lexer": "ipython3",
   "version": "3.12.3"
  }
 },
 "nbformat": 4,
 "nbformat_minor": 5
}
